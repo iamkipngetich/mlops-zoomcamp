{
 "cells": [
  {
   "cell_type": "code",
   "execution_count": 3,
   "id": "c858ae22-93f4-4a33-941a-5c7ece8dec97",
   "metadata": {},
   "outputs": [],
   "source": [
    "import pandas as pd\n",
    "import numpy as np\n",
    "import matplotlib.pyplot as plt\n",
    "import seaborn as sns\n",
    "\n",
    "import pickle\n",
    "\n",
    "from sklearn.feature_extraction import DictVectorizer\n",
    "from sklearn.linear_model import LinearRegression\n",
    "from sklearn.metrics import mean_squared_error\n",
    "from sklearn.linear_model import Lasso\n",
    "from sklearn.linear_model import Ridge\n",
    "from sklearn.metrics import root_mean_squared_error"
   ]
  },
  {
   "cell_type": "code",
   "execution_count": 6,
   "id": "e051cb0d-9c55-4882-8be5-7f31b6b3b94b",
   "metadata": {},
   "outputs": [
    {
     "data": {
      "text/plain": [
       "<Experiment: artifact_location='/workspaces/mlops-zoomcamp/03-orchestration/mlruns/1', creation_time=1750798590842, experiment_id='1', last_update_time=1750798590842, lifecycle_stage='active', name='nyc-taxi-experiment-1', tags={}>"
      ]
     },
     "execution_count": 6,
     "metadata": {},
     "output_type": "execute_result"
    }
   ],
   "source": [
    "import mlflow\n",
    "mlflow.set_tracking_uri(\"http://localhost:5000\")\n",
    "mlflow.set_experiment(\"nyc-taxi-experiment-1\")\n"
   ]
  },
  {
   "cell_type": "code",
   "execution_count": 7,
   "id": "81b75adc-7f5f-486e-8eb3-26fd3cb86951",
   "metadata": {},
   "outputs": [],
   "source": [
    "def read_dataframe(filename, nrows=100_000):\n",
    "    # Load only needed columns to avoid memory issues\n",
    "    cols = [\"tpep_pickup_datetime\", \"tpep_dropoff_datetime\", \"PULocationID\", \"DOLocationID\", \"trip_distance\"]\n",
    "    df = pd.read_parquet(filename, columns=cols)\n",
    "\n",
    "    # Sample only a subset of rows (adjust nrows as needed)\n",
    "    df = df.sample(n=nrows, random_state=42)\n",
    "\n",
    "    df[\"duration\"] = (df.tpep_dropoff_datetime - df.tpep_pickup_datetime).dt.total_seconds() / 60\n",
    "\n",
    "    df = df[(df[\"duration\"] >= 1) & (df[\"duration\"] <= 60)]\n",
    "\n",
    "    categorical = [\"PULocationID\", \"DOLocationID\"]\n",
    "    df[categorical] = df[categorical].astype(str)\n",
    "\n",
    "    return df\n"
   ]
  },
  {
   "cell_type": "code",
   "execution_count": 8,
   "id": "bbd44afc-ab94-4bf6-b661-da630d649f7c",
   "metadata": {},
   "outputs": [],
   "source": [
    "df_train = read_dataframe(\"https://d37ci6vzurychx.cloudfront.net/trip-data/yellow_tripdata_2025-01.parquet\")\n",
    "df_val = read_dataframe(\"https://d37ci6vzurychx.cloudfront.net/trip-data/yellow_tripdata_2025-02.parquet\")"
   ]
  },
  {
   "cell_type": "code",
   "execution_count": 10,
   "id": "e267b8e4-ac59-4fa5-90fd-d189db276951",
   "metadata": {},
   "outputs": [],
   "source": [
    "categorical = [\"PULocationID\", \"DOLocationID\"]\n",
    "numerical = [\"trip_distance\"]\n",
    "\n",
    "dv = DictVectorizer()\n",
    "\n",
    "train_dicts = df_train[categorical + numerical].to_dict(orient=\"records\")\n",
    "X_train = dv.fit_transform(train_dicts)\n",
    "\n",
    "val_dicts = df_val[categorical + numerical].to_dict(orient=\"records\")\n",
    "X_val = dv.transform(val_dicts)\n"
   ]
  },
  {
   "cell_type": "code",
   "execution_count": 11,
   "id": "2f0e6d89-186a-4f96-9075-6c28e93b3a38",
   "metadata": {},
   "outputs": [],
   "source": [
    "target = \"duration\"\n",
    "y_train = df_train[target].values\n",
    "y_val = df_val[target].values"
   ]
  },
  {
   "cell_type": "code",
   "execution_count": 15,
   "id": "f2524344-8f65-43cc-9e89-660d0576353e",
   "metadata": {},
   "outputs": [],
   "source": [
    "import xgboost as xgb\n",
    "\n",
    "from hyperopt import fmin, tpe, hp, STATUS_OK, Trials\n",
    "from hyperopt.pyll import scope"
   ]
  },
  {
   "cell_type": "code",
   "execution_count": 17,
   "id": "f4dd0071-9062-4503-9fa0-bec7ad4ee34d",
   "metadata": {},
   "outputs": [],
   "source": [
    "mlflow.xgboost.autolog(disable=True)"
   ]
  },
  {
   "cell_type": "code",
   "execution_count": 20,
   "id": "bbbc52af-b020-400c-b1b7-de78dcc69021",
   "metadata": {},
   "outputs": [],
   "source": [
    "from pathlib import Path"
   ]
  },
  {
   "cell_type": "code",
   "execution_count": 21,
   "id": "582950d4-bc0b-4325-8f6f-83e226bc3972",
   "metadata": {},
   "outputs": [],
   "source": [
    "models_folder = Path(\"models\")\n",
    "models_folder.mkdir(exist_ok=True)"
   ]
  },
  {
   "cell_type": "code",
   "execution_count": 22,
   "id": "06322c7c-8eaf-4163-8cc3-9afbea7037a1",
   "metadata": {},
   "outputs": [
    {
     "name": "stdout",
     "output_type": "stream",
     "text": [
      "[0]\tvalidation-rmse:8.27394\n",
      "[1]\tvalidation-rmse:7.24974\n",
      "[2]\tvalidation-rmse:6.54049\n",
      "[3]\tvalidation-rmse:6.05847\n",
      "[4]\tvalidation-rmse:5.73505\n"
     ]
    },
    {
     "name": "stderr",
     "output_type": "stream",
     "text": [
      "/home/codespace/anaconda3/lib/python3.11/site-packages/xgboost/callback.py:386: UserWarning: [21:30:03] WARNING: /workspace/src/objective/regression_obj.cu:250: reg:linear is now deprecated in favor of reg:squarederror.\n",
      "  self.starting_round = model.num_boosted_rounds()\n"
     ]
    },
    {
     "name": "stdout",
     "output_type": "stream",
     "text": [
      "[5]\tvalidation-rmse:5.52083\n",
      "[6]\tvalidation-rmse:5.38063\n",
      "[7]\tvalidation-rmse:5.28875\n",
      "[8]\tvalidation-rmse:5.22851\n",
      "[9]\tvalidation-rmse:5.18532\n",
      "[10]\tvalidation-rmse:5.15658\n",
      "[11]\tvalidation-rmse:5.13639\n",
      "[12]\tvalidation-rmse:5.12152\n",
      "[13]\tvalidation-rmse:5.10902\n",
      "[14]\tvalidation-rmse:5.09809\n",
      "[15]\tvalidation-rmse:5.08991\n",
      "[16]\tvalidation-rmse:5.08398\n",
      "[17]\tvalidation-rmse:5.07992\n",
      "[18]\tvalidation-rmse:5.07651\n",
      "[19]\tvalidation-rmse:5.07014\n",
      "[20]\tvalidation-rmse:5.06835\n",
      "[21]\tvalidation-rmse:5.06401\n",
      "[22]\tvalidation-rmse:5.05858\n",
      "[23]\tvalidation-rmse:5.05612\n",
      "[24]\tvalidation-rmse:5.05126\n",
      "[25]\tvalidation-rmse:5.04989\n",
      "[26]\tvalidation-rmse:5.04598\n",
      "[27]\tvalidation-rmse:5.04454\n",
      "[28]\tvalidation-rmse:5.04204\n",
      "[29]\tvalidation-rmse:5.03840\n"
     ]
    },
    {
     "name": "stderr",
     "output_type": "stream",
     "text": [
      "2025/06/24 21:30:04 WARNING mlflow.models.model: `artifact_path` is deprecated. Please use `name` instead.\n",
      "/home/codespace/anaconda3/lib/python3.11/site-packages/mlflow/xgboost/__init__.py:168: UserWarning: [21:30:05] WARNING: /workspace/src/c_api/c_api.cc:1427: Saving model in the UBJSON format as default.  You can use file extension: `json`, `ubj` or `deprecated` to choose between formats.\n",
      "  xgb_model.save_model(model_data_path)\n",
      "\u001b[31m2025/06/24 21:30:16 WARNING mlflow.models.model: Model logged without a signature and input example. Please set `input_example` parameter when logging the model to auto infer the model signature.\u001b[0m\n"
     ]
    },
    {
     "name": "stdout",
     "output_type": "stream",
     "text": [
      "🏃 View run honorable-horse-764 at: http://localhost:5000/#/experiments/1/runs/54b8a9b42d874f3698c7b5fd2c9ecc11\n",
      "🧪 View experiment at: http://localhost:5000/#/experiments/1\n"
     ]
    }
   ],
   "source": [
    "with mlflow.start_run():\n",
    "\n",
    "    train = xgb.DMatrix(X_train, label=y_train)\n",
    "    valid = xgb.DMatrix(X_val, label=y_val)\n",
    "  \n",
    "    best_params = {\n",
    "    \"learning_rate\":0.21791931703206877,\n",
    "    \"max_depth\":11,\n",
    "    \"min_child_weight\":17.72218118291325,\n",
    "    \"objective\":\"reg:linear\",\n",
    "    \"reg_alpha\":0.35833596417752367,\n",
    "    \"reg_lambda\":0.09446440043442567,\n",
    "    \"seed\":42\n",
    "    }\n",
    "\n",
    "    mlflow.log_params(best_params)\n",
    "    \n",
    "    booster = xgb.train(\n",
    "                    params=best_params,\n",
    "                    dtrain=train,\n",
    "                    num_boost_round=30,\n",
    "                    evals=[(valid, 'validation')],\n",
    "                    early_stopping_rounds=50\n",
    "                )\n",
    "    y_pred = booster.predict(valid)\n",
    "    mse = root_mean_squared_error(y_val, y_pred)\n",
    "    rmse = np.sqrt(mse)\n",
    "    mlflow.log_metric(\"rmse\", rmse)\n",
    "\n",
    "    with open(\"models/preprocessor.b\", \"wb\") as f_out:\n",
    "        pickle.dump(dv, f_out)\n",
    "        \n",
    "    mlflow.log_artifact(\"models/preprocessor.b\", artifact_path=\"preprocessor\")\n",
    "    mlflow.xgboost.log_model(booster, artifact_path=\"models_mlflow\")"
   ]
  },
  {
   "cell_type": "code",
   "execution_count": null,
   "id": "f89f621f-c7dd-4ce9-a58b-ea2045bd660f",
   "metadata": {},
   "outputs": [],
   "source": []
  }
 ],
 "metadata": {
  "kernelspec": {
   "display_name": "Python 3 (ipykernel)",
   "language": "python",
   "name": "python3"
  },
  "language_info": {
   "codemirror_mode": {
    "name": "ipython",
    "version": 3
   },
   "file_extension": ".py",
   "mimetype": "text/x-python",
   "name": "python",
   "nbconvert_exporter": "python",
   "pygments_lexer": "ipython3",
   "version": "3.11.7"
  }
 },
 "nbformat": 4,
 "nbformat_minor": 5
}
